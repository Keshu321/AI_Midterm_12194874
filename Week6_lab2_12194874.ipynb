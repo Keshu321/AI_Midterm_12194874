{
  "nbformat": 4,
  "nbformat_minor": 0,
  "metadata": {
    "colab": {
      "provenance": [],
      "collapsed_sections": [],
      "include_colab_link": true
    },
    "kernelspec": {
      "name": "python3",
      "display_name": "Python 3"
    },
    "language_info": {
      "name": "python"
    }
  },
  "cells": [
    {
      "cell_type": "markdown",
      "metadata": {
        "id": "view-in-github",
        "colab_type": "text"
      },
      "source": [
        "<a href=\"https://colab.research.google.com/github/Keshu321/AI_Midterm_12194874/blob/main/Week6_lab2_12194874.ipynb\" target=\"_parent\"><img src=\"https://colab.research.google.com/assets/colab-badge.svg\" alt=\"Open In Colab\"/></a>"
      ]
    },
    {
      "cell_type": "markdown",
      "source": [
        "# Image Denoising using Neural Network\n",
        "\n",
        "- Download the csv file to your Desktop through the url: \n",
        "https:www.kaggle.com/zalando-research/fashionmnist\n",
        "\n",
        "- Upload the fashion-mnist_train.csv file to the file section in your Google \n",
        "Colab Notebook\n",
        "\n",
        "- Install the 1.15.5 version of the TensorFlow"
      ],
      "metadata": {
        "id": "OoAdaSRfZOLo"
      }
    },
    {
      "cell_type": "code",
      "source": [
        "pip install tensorflow==1.15.5"
      ],
      "metadata": {
        "colab": {
          "base_uri": "https://localhost:8080/"
        },
        "id": "tDDfQ7K20MZd",
        "outputId": "9bf2dab7-fd76-48e5-ccad-ee21b1dc4a28"
      },
      "execution_count": null,
      "outputs": [
        {
          "output_type": "stream",
          "name": "stdout",
          "text": [
            "Looking in indexes: https://pypi.org/simple, https://us-python.pkg.dev/colab-wheels/public/simple/\n",
            "Requirement already satisfied: tensorflow==1.15.5 in /usr/local/lib/python3.7/dist-packages (1.15.5)\n",
            "Requirement already satisfied: grpcio>=1.8.6 in /usr/local/lib/python3.7/dist-packages (from tensorflow==1.15.5) (1.48.1)\n",
            "Requirement already satisfied: astor>=0.6.0 in /usr/local/lib/python3.7/dist-packages (from tensorflow==1.15.5) (0.8.1)\n",
            "Requirement already satisfied: wrapt>=1.11.1 in /usr/local/lib/python3.7/dist-packages (from tensorflow==1.15.5) (1.14.1)\n",
            "Requirement already satisfied: six>=1.10.0 in /usr/local/lib/python3.7/dist-packages (from tensorflow==1.15.5) (1.15.0)\n",
            "Requirement already satisfied: google-pasta>=0.1.6 in /usr/local/lib/python3.7/dist-packages (from tensorflow==1.15.5) (0.2.0)\n",
            "Requirement already satisfied: absl-py>=0.7.0 in /usr/local/lib/python3.7/dist-packages (from tensorflow==1.15.5) (1.2.0)\n",
            "Requirement already satisfied: keras-applications>=1.0.8 in /usr/local/lib/python3.7/dist-packages (from tensorflow==1.15.5) (1.0.8)\n",
            "Requirement already satisfied: keras-preprocessing>=1.0.5 in /usr/local/lib/python3.7/dist-packages (from tensorflow==1.15.5) (1.1.2)\n",
            "Requirement already satisfied: tensorboard<1.16.0,>=1.15.0 in /usr/local/lib/python3.7/dist-packages (from tensorflow==1.15.5) (1.15.0)\n",
            "Requirement already satisfied: termcolor>=1.1.0 in /usr/local/lib/python3.7/dist-packages (from tensorflow==1.15.5) (1.1.0)\n",
            "Requirement already satisfied: protobuf>=3.6.1 in /usr/local/lib/python3.7/dist-packages (from tensorflow==1.15.5) (3.17.3)\n",
            "Requirement already satisfied: h5py<=2.10.0 in /usr/local/lib/python3.7/dist-packages (from tensorflow==1.15.5) (2.10.0)\n",
            "Requirement already satisfied: opt-einsum>=2.3.2 in /usr/local/lib/python3.7/dist-packages (from tensorflow==1.15.5) (3.3.0)\n",
            "Requirement already satisfied: tensorflow-estimator==1.15.1 in /usr/local/lib/python3.7/dist-packages (from tensorflow==1.15.5) (1.15.1)\n",
            "Requirement already satisfied: gast==0.2.2 in /usr/local/lib/python3.7/dist-packages (from tensorflow==1.15.5) (0.2.2)\n",
            "Requirement already satisfied: numpy<1.19.0,>=1.16.0 in /usr/local/lib/python3.7/dist-packages (from tensorflow==1.15.5) (1.18.5)\n",
            "Requirement already satisfied: wheel>=0.26 in /usr/local/lib/python3.7/dist-packages (from tensorflow==1.15.5) (0.37.1)\n",
            "Requirement already satisfied: markdown>=2.6.8 in /usr/local/lib/python3.7/dist-packages (from tensorboard<1.16.0,>=1.15.0->tensorflow==1.15.5) (3.4.1)\n",
            "Requirement already satisfied: setuptools>=41.0.0 in /usr/local/lib/python3.7/dist-packages (from tensorboard<1.16.0,>=1.15.0->tensorflow==1.15.5) (57.4.0)\n",
            "Requirement already satisfied: werkzeug>=0.11.15 in /usr/local/lib/python3.7/dist-packages (from tensorboard<1.16.0,>=1.15.0->tensorflow==1.15.5) (1.0.1)\n",
            "Requirement already satisfied: importlib-metadata>=4.4 in /usr/local/lib/python3.7/dist-packages (from markdown>=2.6.8->tensorboard<1.16.0,>=1.15.0->tensorflow==1.15.5) (4.12.0)\n",
            "Requirement already satisfied: zipp>=0.5 in /usr/local/lib/python3.7/dist-packages (from importlib-metadata>=4.4->markdown>=2.6.8->tensorboard<1.16.0,>=1.15.0->tensorflow==1.15.5) (3.8.1)\n",
            "Requirement already satisfied: typing-extensions>=3.6.4 in /usr/local/lib/python3.7/dist-packages (from importlib-metadata>=4.4->markdown>=2.6.8->tensorboard<1.16.0,>=1.15.0->tensorflow==1.15.5) (4.1.1)\n"
          ]
        }
      ]
    },
    {
      "cell_type": "markdown",
      "source": [
        "## Import all required dependencies\n"
      ],
      "metadata": {
        "id": "hOJ_TfWwZngN"
      }
    },
    {
      "cell_type": "code",
      "execution_count": null,
      "metadata": {
        "id": "Tk_MSmfyzqPd"
      },
      "outputs": [],
      "source": [
        "import os\n",
        "import numpy as np \n",
        "import zipfile\n",
        "from urllib import request\n",
        "import matplotlib.pyplot as plt\n",
        "import matplotlib.image as mpimg\n",
        "import random\n",
        "import tensorflow as tf\n",
        "import cv2"
      ]
    },
    {
      "cell_type": "markdown",
      "source": [
        "## Read the csv file by using np.loadtxt and print the shape of the database"
      ],
      "metadata": {
        "id": "X4xlZFvoZr76"
      }
    },
    {
      "cell_type": "code",
      "source": [
        "# Importing the dataset\n",
        "# url https:www.kaggle.com/zalando-research/fashionmnist\n",
        "# kaggle datasets download -d zalando-research/fashionmnist\n",
        "\n",
        "img_database = np.loadtxt('fashion-mnist_train.csv', delimiter=',', skiprows=1)[:,1:]\n",
        "#looking at the shape of the file\n",
        "print(img_database.shape)\n",
        "\n",
        "\n",
        "total_num_images = (img_database.shape[0])"
      ],
      "metadata": {
        "colab": {
          "base_uri": "https://localhost:8080/"
        },
        "id": "Fl7RyQcI0ryD",
        "outputId": "d39ceb4d-278b-40ce-cb1a-e1823e4016c9"
      },
      "execution_count": null,
      "outputs": [
        {
          "output_type": "stream",
          "name": "stdout",
          "text": [
            "(60000, 784)\n"
          ]
        }
      ]
    },
    {
      "cell_type": "markdown",
      "source": [
        "## Define the parameters for the neural network. \n",
        "\n",
        "- Output_layer parameter should be same as the n_input dimension"
      ],
      "metadata": {
        "id": "RqRouTq0ZzO5"
      }
    },
    {
      "cell_type": "code",
      "source": [
        "n_input = 784 #Input image is of size 28 x 28\n",
        "hidden_layer_1 = 256\n",
        "hidden_layer_2 = 32\n",
        "hidden_layer_3 = 32\n",
        "hidden_layer_4 = 256\n",
        "output_layer = 784  #Same as the n_input dimension\n",
        "\n",
        "# Parameters\n",
        "learning_rate = 0.1\n",
        "epochs = 100\n",
        "batch_size = 100\n",
        "\n",
        "# Define the placeholders\n",
        "X = tf.placeholder(tf.float32, [None, n_input])\n",
        "Y = tf.placeholder(tf.float32, [None, output_layer])"
      ],
      "metadata": {
        "id": "2OYOPgjK5bkT"
      },
      "execution_count": null,
      "outputs": []
    },
    {
      "cell_type": "markdown",
      "source": [
        "## These are the weight and bias, variables defining terms of the dictionary"
      ],
      "metadata": {
        "id": "Q3Uweio5Z_Iz"
      }
    },
    {
      "cell_type": "code",
      "source": [
        "# Weight and Bias definations of Neural Network\n",
        "\n",
        "Weight_NN = {\"W1\": tf.Variable(tf.random_normal([n_input, hidden_layer_1])),\n",
        "             \"W2\": tf.Variable(tf.random_normal([hidden_layer_1, hidden_layer_2])),\n",
        "             \"W3\": tf.Variable(tf.random_normal([hidden_layer_2, hidden_layer_3])),\n",
        "             \"W4\": tf.Variable(tf.random_normal([hidden_layer_3, hidden_layer_4])),\n",
        "             \"W5\": tf.Variable(tf.random_normal([hidden_layer_4, output_layer]))\n",
        "             }\n",
        "Bias_NN = { \"B1\": tf.Variable(tf.random_normal([hidden_layer_1])),\n",
        "            \"B2\": tf.Variable(tf.random_normal([hidden_layer_2])),\n",
        "            \"B3\": tf.Variable(tf.random_normal([hidden_layer_3])),\n",
        "            \"B4\": tf.Variable(tf.random_normal([hidden_layer_4])),\n",
        "            \"B5\": tf.Variable(tf.random_normal([output_layer]))\n",
        "           }"
      ],
      "metadata": {
        "id": "LyoBq9Bk5eL6"
      },
      "execution_count": null,
      "outputs": []
    },
    {
      "cell_type": "markdown",
      "source": [
        "## Create the computational graph\n"
      ],
      "metadata": {
        "id": "2CBXzYNTaDoO"
      }
    },
    {
      "cell_type": "code",
      "source": [
        "# Creating a computational graph\n",
        "\n",
        "# Neural Network\n",
        "Z1 = tf.add(tf.matmul(X, Weight_NN[\"W1\"]), Bias_NN[\"B1\"])\n",
        "Z1_out = tf.nn.sigmoid(Z1)\n",
        "\n",
        "Z2 = tf.add(tf.matmul(Z1_out, Weight_NN[\"W2\"]), Bias_NN[\"B2\"])\n",
        "Z2_out = tf.nn.sigmoid(Z2)\n",
        "\n",
        "Z3 = tf.add(tf.matmul(Z2_out, Weight_NN[\"W3\"]), Bias_NN[\"B2\"])\n",
        "Z3_out = tf.nn.sigmoid(Z3)\n",
        "\n",
        "Z4 = tf.add(tf.matmul(Z3_out, Weight_NN[\"W4\"]), Bias_NN[\"B4\"])\n",
        "Z4_out = tf.nn.sigmoid(Z4)\n",
        "\n",
        "Z5 = tf.add(tf.matmul(Z4_out, Weight_NN[\"W5\"]), Bias_NN[\"B5\"])\n",
        "Z5_out = tf.nn.sigmoid(Z5)"
      ],
      "metadata": {
        "id": "eFJ_aEbD5lQA"
      },
      "execution_count": null,
      "outputs": []
    },
    {
      "cell_type": "markdown",
      "source": [
        "## Implementing Neural network model using Tensorflow api"
      ],
      "metadata": {
        "id": "XVyKrKR4aLh4"
      }
    },
    {
      "cell_type": "code",
      "source": [
        "# Implementing Neural network model using Tensorflow api\n",
        "\n",
        "Z1 = tf.layers.dense(X, hidden_layer_1, activation = tf.nn.sigmoid)\n",
        "Z2 = tf.layers.dense(Z1, hidden_layer_2, activation = tf.nn.sigmoid)\n",
        "Z3 = tf.layers.dense(Z1, hidden_layer_3, activation = tf.nn.sigmoid)\n",
        "Z4 = tf.layers.dense(Z1, hidden_layer_4, activation = tf.nn.sigmoid)\n",
        "NN_output = tf.layers.dense(Z4, output_layer)"
      ],
      "metadata": {
        "colab": {
          "base_uri": "https://localhost:8080/"
        },
        "id": "2b9fbGWc5n_p",
        "outputId": "08f7faa6-3af6-4a13-9986-3d1a487f9a36"
      },
      "execution_count": null,
      "outputs": [
        {
          "output_type": "stream",
          "name": "stderr",
          "text": [
            "WARNING:tensorflow:From <ipython-input-8-ecb67ef6dc49>:3: dense (from tensorflow.python.layers.core) is deprecated and will be removed in a future version.\n",
            "Instructions for updating:\n",
            "Use keras.layers.Dense instead.\n",
            "WARNING:tensorflow:From /usr/local/lib/python3.7/dist-packages/tensorflow_core/python/layers/core.py:187: Layer.apply (from tensorflow.python.keras.engine.base_layer) is deprecated and will be removed in a future version.\n",
            "Instructions for updating:\n",
            "Please use `layer.__call__` method instead.\n"
          ]
        }
      ]
    },
    {
      "cell_type": "markdown",
      "source": [
        "## Shuffling the dataset occurs\n",
        "in order to avoid any bias, creating the noisy dataset by adding a noise of 10, plotting them as an output\n"
      ],
      "metadata": {
        "id": "mPT9wIjJaRyo"
      }
    },
    {
      "cell_type": "code",
      "source": [
        "# Dataset preparation\n",
        "\n",
        "# Shuffle the dataset\n",
        "np.random.shuffle(img_database)\n",
        "\n",
        "X_train = img_database\n",
        "\n",
        "# Normalize the dataset\n",
        "X_train = X_train\n",
        "\n",
        "# Create a noisy dataset\n",
        "X_train_noisy = X_train + 10* np.random.normal(0,1, size = X_train.shape)\n",
        "\n",
        "#Original image\n",
        "plt.imshow(X_train[0].reshape(28,28), cmap = 'gray')\n",
        "plt.show()\n",
        "\n",
        "#Noisy image\n",
        "plt.imshow(X_train_noisy[0].reshape(28,28), cmap = 'gray')\n",
        "plt.show()"
      ],
      "metadata": {
        "colab": {
          "base_uri": "https://localhost:8080/",
          "height": 513
        },
        "id": "56C69Qsq5ymA",
        "outputId": "9305fe9a-a3ee-4280-f7ac-6dba2365dc00"
      },
      "execution_count": null,
      "outputs": [
        {
          "output_type": "display_data",
          "data": {
            "text/plain": [
              "<Figure size 432x288 with 1 Axes>"
            ],
            "image/png": "[encoded data removed]"
          },
          "metadata": {
            "needs_background": "light"
          }
        },
        {
          "output_type": "display_data",
          "data": {
            "text/plain": [
              "<Figure size 432x288 with 1 Axes>"
            ],
            "image/png": "[encoded data removed]"
          },
          "metadata": {
            "needs_background": "light"
          }
        }
      ]
    },
    {
      "cell_type": "markdown",
      "source": [
        "## Define the metrics:\n",
        "in order to compute the loss for the dataset\n",
        "\n",
        "## Define the AdagradOptimizer: \n",
        "which requires learning_rate as a parameter and computed_loss as an input"
      ],
      "metadata": {
        "id": "ci0uwEB3ad1l"
      }
    },
    {
      "cell_type": "code",
      "source": [
        "#Define the metrics\n",
        "\n",
        "# The loss function\n",
        "computed_loss = tf.reduce_mean(tf.square(NN_output-Y))\n",
        "\n",
        "# Define the optimizer\n",
        "optimizer = tf.train.AdagradOptimizer(learning_rate).minimize(computed_loss)\n",
        "\n",
        "# Initialize the variables\n",
        "init = tf.global_variables_initializer()"
      ],
      "metadata": {
        "colab": {
          "base_uri": "https://localhost:8080/"
        },
        "id": "72Gnq9DU547F",
        "outputId": "b8ac831d-a105-4ba6-cafc-531c1033cd31"
      },
      "execution_count": null,
      "outputs": [
        {
          "output_type": "stream",
          "name": "stderr",
          "text": [
            "WARNING:tensorflow:From /usr/local/lib/python3.7/dist-packages/tensorflow_core/python/training/adagrad.py:76: calling Constant.__init__ (from tensorflow.python.ops.init_ops) with dtype is deprecated and will be removed in a future version.\n",
            "Instructions for updating:\n",
            "Call initializer instance with the dtype argument instead of passing it to the constructor\n"
          ]
        }
      ]
    },
    {
      "cell_type": "markdown",
      "source": [
        "## Run the session"
      ],
      "metadata": {
        "id": "osf10mzBa-iT"
      }
    },
    {
      "cell_type": "code",
      "source": [
        "# Initialize the Session\n",
        "\n",
        "sess = tf.Session()\n",
        "sess.run(init)\n",
        "for epoch in range(epochs):\n",
        "  for i in range(int(total_num_images/batch_size)):\n",
        "    X_epoch = X_train[ i*batch_size : (i+1)*batch_size ]\n",
        "    X_noise_epoch = X_train_noisy[ i*batch_size : (i+1)*batch_size ]\n",
        "    _, loss = sess.run([optimizer, computed_loss], feed_dict = {X: X_noise_epoch, Y: X_epoch})\n",
        "  print('Epoch', epoch, '/', epochs, 'loss:', loss)\n",
        "\n",
        "# pick any image\n",
        "X_actual = X_train[:10]\n",
        "noisy_image = X_train_noisy[:10]\n",
        "\n",
        "# run it though the autoencoder\n",
        "denoised_image = sess.run(NN_output, feed_dict={X:noisy_image})"
      ],
      "metadata": {
        "colab": {
          "base_uri": "https://localhost:8080/"
        },
        "id": "yKwZcKc05_nP",
        "outputId": "e596a4d9-a658-4443-af7b-0651f7957458"
      },
      "execution_count": null,
      "outputs": [
        {
          "output_type": "stream",
          "name": "stdout",
          "text": [
            "Epoch 0 / 100 loss: 4439.637\n",
            "Epoch 1 / 100 loss: 4078.8203\n",
            "Epoch 2 / 100 loss: 3733.559\n",
            "Epoch 3 / 100 loss: 3578.067\n",
            "Epoch 4 / 100 loss: 3478.836\n",
            "Epoch 5 / 100 loss: 3459.7405\n",
            "Epoch 6 / 100 loss: 3389.6536\n",
            "Epoch 7 / 100 loss: 3371.8333\n",
            "Epoch 8 / 100 loss: 3341.704\n",
            "Epoch 9 / 100 loss: 3306.3079\n",
            "Epoch 10 / 100 loss: 3275.432\n",
            "Epoch 11 / 100 loss: 3277.0837\n",
            "Epoch 12 / 100 loss: 3203.2815\n",
            "Epoch 13 / 100 loss: 3178.274\n",
            "Epoch 14 / 100 loss: 3162.6624\n",
            "Epoch 15 / 100 loss: 3189.5452\n",
            "Epoch 16 / 100 loss: 3132.5715\n",
            "Epoch 17 / 100 loss: 3122.0293\n",
            "Epoch 18 / 100 loss: 3111.068\n",
            "Epoch 19 / 100 loss: 3054.242\n",
            "Epoch 20 / 100 loss: 3028.7126\n",
            "Epoch 21 / 100 loss: 3048.4836\n",
            "Epoch 22 / 100 loss: 3057.862\n",
            "Epoch 23 / 100 loss: 3028.3762\n",
            "Epoch 24 / 100 loss: 2961.2727\n",
            "Epoch 25 / 100 loss: 2978.297\n",
            "Epoch 26 / 100 loss: 2869.1555\n",
            "Epoch 27 / 100 loss: 2905.9048\n",
            "Epoch 28 / 100 loss: 2879.1409\n",
            "Epoch 29 / 100 loss: 2805.4624\n",
            "Epoch 30 / 100 loss: 2807.6223\n",
            "Epoch 31 / 100 loss: 2840.615\n",
            "Epoch 32 / 100 loss: 2785.454\n",
            "Epoch 33 / 100 loss: 2744.524\n",
            "Epoch 34 / 100 loss: 2758.4148\n",
            "Epoch 35 / 100 loss: 2801.4207\n",
            "Epoch 36 / 100 loss: 2745.6675\n",
            "Epoch 37 / 100 loss: 2707.9333\n",
            "Epoch 38 / 100 loss: 2759.6272\n",
            "Epoch 39 / 100 loss: 2840.034\n",
            "Epoch 40 / 100 loss: 2728.094\n",
            "Epoch 41 / 100 loss: 2750.3738\n",
            "Epoch 42 / 100 loss: 2759.2368\n",
            "Epoch 43 / 100 loss: 2699.9363\n",
            "Epoch 44 / 100 loss: 2684.0542\n",
            "Epoch 45 / 100 loss: 2588.914\n",
            "Epoch 46 / 100 loss: 2652.9478\n",
            "Epoch 47 / 100 loss: 2620.2947\n",
            "Epoch 48 / 100 loss: 2644.0515\n",
            "Epoch 49 / 100 loss: 2581.5935\n",
            "Epoch 50 / 100 loss: 2594.271\n",
            "Epoch 51 / 100 loss: 2572.5083\n",
            "Epoch 52 / 100 loss: 2526.1204\n",
            "Epoch 53 / 100 loss: 2561.466\n",
            "Epoch 54 / 100 loss: 2534.4973\n",
            "Epoch 55 / 100 loss: 2528.235\n",
            "Epoch 56 / 100 loss: 2512.1162\n",
            "Epoch 57 / 100 loss: 2504.6917\n",
            "Epoch 58 / 100 loss: 2492.4197\n",
            "Epoch 59 / 100 loss: 2492.9788\n",
            "Epoch 60 / 100 loss: 2514.2046\n",
            "Epoch 61 / 100 loss: 2520.2952\n",
            "Epoch 62 / 100 loss: 2557.7126\n",
            "Epoch 63 / 100 loss: 2487.2625\n",
            "Epoch 64 / 100 loss: 2561.5042\n",
            "Epoch 65 / 100 loss: 2466.5715\n",
            "Epoch 66 / 100 loss: 2484.707\n",
            "Epoch 67 / 100 loss: 2486.9673\n",
            "Epoch 68 / 100 loss: 2473.5586\n",
            "Epoch 69 / 100 loss: 2463.0378\n",
            "Epoch 70 / 100 loss: 2537.859\n",
            "Epoch 71 / 100 loss: 2490.005\n",
            "Epoch 72 / 100 loss: 2478.7117\n",
            "Epoch 73 / 100 loss: 2476.2383\n",
            "Epoch 74 / 100 loss: 2523.242\n",
            "Epoch 75 / 100 loss: 2491.6292\n",
            "Epoch 76 / 100 loss: 2484.6\n",
            "Epoch 77 / 100 loss: 2524.5486\n",
            "Epoch 78 / 100 loss: 2519.8882\n",
            "Epoch 79 / 100 loss: 2478.8853\n",
            "Epoch 80 / 100 loss: 2454.0527\n",
            "Epoch 81 / 100 loss: 2447.8132\n",
            "Epoch 82 / 100 loss: 2483.257\n",
            "Epoch 83 / 100 loss: 2453.3862\n",
            "Epoch 84 / 100 loss: 2438.7556\n",
            "Epoch 85 / 100 loss: 2449.2244\n",
            "Epoch 86 / 100 loss: 2438.1775\n",
            "Epoch 87 / 100 loss: 2457.9473\n",
            "Epoch 88 / 100 loss: 2442.6812\n",
            "Epoch 89 / 100 loss: 2456.812\n",
            "Epoch 90 / 100 loss: 2456.036\n",
            "Epoch 91 / 100 loss: 2429.6375\n",
            "Epoch 92 / 100 loss: 2475.385\n",
            "Epoch 93 / 100 loss: 2458.4812\n",
            "Epoch 94 / 100 loss: 2405.2095\n",
            "Epoch 95 / 100 loss: 2420.6008\n",
            "Epoch 96 / 100 loss: 2425.9075\n",
            "Epoch 97 / 100 loss: 2422.36\n",
            "Epoch 98 / 100 loss: 2427.2942\n",
            "Epoch 99 / 100 loss: 2466.248\n"
          ]
        }
      ]
    },
    {
      "cell_type": "markdown",
      "source": [
        "## Another way of running session"
      ],
      "metadata": {
        "id": "ubQdGOaRbEt-"
      }
    },
    {
      "cell_type": "code",
      "source": [
        "# Another way of running session\n",
        "\n",
        "X_actual = X_train[20:30]\n",
        "noisy_image = X_train_noisy[20:30]\n",
        "with tf.Session() as sess:\n",
        "  sess.run(init)\n",
        "  for epoch in range(epochs):\n",
        "    for i in range(int(total_num_images/batch_size)):\n",
        "      X_epoch = X_train[ i*batch_size : (i*1)*batch_size ]\n",
        "      X_noise_epoch = X_train_noisy[i*batch_size : (i*1)*batch_size ]\n",
        "      _, loss = sess.run([optimizer, computed_loss], feed_dict={X: X_noise_epoch, Y: X_epoch})\n",
        "    print('Epoch', epoch, '/', epochs, 'loss:', loss)\n",
        "  denoised_image = sess.run(NN_output, feed_dict = {X:noisy_image})\n",
        "\n",
        "#pick any image\n",
        "  \n",
        "\n",
        "# print the original image \n",
        "fig, axes = plt.subplots(nrows=3, ncols=10, sharex=True, sharey=True, figsize=(20,4))\n",
        "for images, row in zip([X_actual, noisy_image, denoised_image], axes):\n",
        "    for img, ax in zip(images,row):\n",
        "        ax.imshow(img.reshape((28,28)), cmap='gray')\n",
        "        ax.get_xaxis().set_visible(False)\n",
        "        ax.get_yaxis().set_visible(False)\n",
        "\n",
        "fig.tight_layout(pad=0.1)"
      ],
      "metadata": {
        "colab": {
          "base_uri": "https://localhost:8080/",
          "height": 1000
        },
        "id": "GpJuYVzI8Ms8",
        "outputId": "c184d4cd-c2fd-4ec5-f2da-83feb4f9f64d"
      },
      "execution_count": null,
      "outputs": [
        {
          "output_type": "stream",
          "name": "stdout",
          "text": [
            "Epoch 0 / 100 loss: nan\n",
            "Epoch 1 / 100 loss: nan\n",
            "Epoch 2 / 100 loss: nan\n",
            "Epoch 3 / 100 loss: nan\n",
            "Epoch 4 / 100 loss: nan\n",
            "Epoch 5 / 100 loss: nan\n",
            "Epoch 6 / 100 loss: nan\n",
            "Epoch 7 / 100 loss: nan\n",
            "Epoch 8 / 100 loss: nan\n",
            "Epoch 9 / 100 loss: nan\n",
            "Epoch 10 / 100 loss: nan\n",
            "Epoch 11 / 100 loss: nan\n",
            "Epoch 12 / 100 loss: nan\n",
            "Epoch 13 / 100 loss: nan\n",
            "Epoch 14 / 100 loss: nan\n",
            "Epoch 15 / 100 loss: nan\n",
            "Epoch 16 / 100 loss: nan\n",
            "Epoch 17 / 100 loss: nan\n",
            "Epoch 18 / 100 loss: nan\n",
            "Epoch 19 / 100 loss: nan\n",
            "Epoch 20 / 100 loss: nan\n",
            "Epoch 21 / 100 loss: nan\n",
            "Epoch 22 / 100 loss: nan\n",
            "Epoch 23 / 100 loss: nan\n",
            "Epoch 24 / 100 loss: nan\n",
            "Epoch 25 / 100 loss: nan\n",
            "Epoch 26 / 100 loss: nan\n",
            "Epoch 27 / 100 loss: nan\n",
            "Epoch 28 / 100 loss: nan\n",
            "Epoch 29 / 100 loss: nan\n",
            "Epoch 30 / 100 loss: nan\n",
            "Epoch 31 / 100 loss: nan\n",
            "Epoch 32 / 100 loss: nan\n",
            "Epoch 33 / 100 loss: nan\n",
            "Epoch 34 / 100 loss: nan\n",
            "Epoch 35 / 100 loss: nan\n",
            "Epoch 36 / 100 loss: nan\n",
            "Epoch 37 / 100 loss: nan\n",
            "Epoch 38 / 100 loss: nan\n",
            "Epoch 39 / 100 loss: nan\n",
            "Epoch 40 / 100 loss: nan\n",
            "Epoch 41 / 100 loss: nan\n",
            "Epoch 42 / 100 loss: nan\n",
            "Epoch 43 / 100 loss: nan\n",
            "Epoch 44 / 100 loss: nan\n",
            "Epoch 45 / 100 loss: nan\n",
            "Epoch 46 / 100 loss: nan\n",
            "Epoch 47 / 100 loss: nan\n",
            "Epoch 48 / 100 loss: nan\n",
            "Epoch 49 / 100 loss: nan\n",
            "Epoch 50 / 100 loss: nan\n",
            "Epoch 51 / 100 loss: nan\n",
            "Epoch 52 / 100 loss: nan\n",
            "Epoch 53 / 100 loss: nan\n",
            "Epoch 54 / 100 loss: nan\n",
            "Epoch 55 / 100 loss: nan\n",
            "Epoch 56 / 100 loss: nan\n",
            "Epoch 57 / 100 loss: nan\n",
            "Epoch 58 / 100 loss: nan\n",
            "Epoch 59 / 100 loss: nan\n",
            "Epoch 60 / 100 loss: nan\n",
            "Epoch 61 / 100 loss: nan\n",
            "Epoch 62 / 100 loss: nan\n",
            "Epoch 63 / 100 loss: nan\n",
            "Epoch 64 / 100 loss: nan\n",
            "Epoch 65 / 100 loss: nan\n",
            "Epoch 66 / 100 loss: nan\n",
            "Epoch 67 / 100 loss: nan\n",
            "Epoch 68 / 100 loss: nan\n",
            "Epoch 69 / 100 loss: nan\n",
            "Epoch 70 / 100 loss: nan\n",
            "Epoch 71 / 100 loss: nan\n",
            "Epoch 72 / 100 loss: nan\n",
            "Epoch 73 / 100 loss: nan\n",
            "Epoch 74 / 100 loss: nan\n",
            "Epoch 75 / 100 loss: nan\n",
            "Epoch 76 / 100 loss: nan\n",
            "Epoch 77 / 100 loss: nan\n",
            "Epoch 78 / 100 loss: nan\n",
            "Epoch 79 / 100 loss: nan\n",
            "Epoch 80 / 100 loss: nan\n",
            "Epoch 81 / 100 loss: nan\n",
            "Epoch 82 / 100 loss: nan\n",
            "Epoch 83 / 100 loss: nan\n",
            "Epoch 84 / 100 loss: nan\n",
            "Epoch 85 / 100 loss: nan\n",
            "Epoch 86 / 100 loss: nan\n",
            "Epoch 87 / 100 loss: nan\n",
            "Epoch 88 / 100 loss: nan\n",
            "Epoch 89 / 100 loss: nan\n",
            "Epoch 90 / 100 loss: nan\n",
            "Epoch 91 / 100 loss: nan\n",
            "Epoch 92 / 100 loss: nan\n",
            "Epoch 93 / 100 loss: nan\n",
            "Epoch 94 / 100 loss: nan\n",
            "Epoch 95 / 100 loss: nan\n",
            "Epoch 96 / 100 loss: nan\n",
            "Epoch 97 / 100 loss: nan\n",
            "Epoch 98 / 100 loss: nan\n",
            "Epoch 99 / 100 loss: nan\n"
          ]
        },
        {
          "output_type": "display_data",
          "data": {
            "text/plain": [
              "<Figure size 1440x288 with 30 Axes>"
            ],
            "image/png": "[encoded data removed]"
          },
          "metadata": {
            "needs_background": "light"
          }
        }
      ]
    }
  ]
}