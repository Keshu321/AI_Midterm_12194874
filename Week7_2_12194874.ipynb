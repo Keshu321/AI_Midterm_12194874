{
  "nbformat": 4,
  "nbformat_minor": 0,
  "metadata": {
    "colab": {
      "provenance": [],
      "collapsed_sections": []
    },
    "kernelspec": {
      "name": "python3",
      "display_name": "Python 3"
    },
    "language_info": {
      "name": "python"
    },
    "widgets": {
      "application/vnd.jupyter.widget-state+json": {
        "d824b520dc194485a515fa1374a80800": {
          "model_module": "@jupyter-widgets/controls",
          "model_name": "HBoxModel",
          "model_module_version": "1.5.0",
          "state": {
            "_dom_classes": [],
            "_model_module": "@jupyter-widgets/controls",
            "_model_module_version": "1.5.0",
            "_model_name": "HBoxModel",
            "_view_count": null,
            "_view_module": "@jupyter-widgets/controls",
            "_view_module_version": "1.5.0",
            "_view_name": "HBoxView",
            "box_style": "",
            "children": [
              "IPY_MODEL_57d3b1408f2b4fcbb3f4216bf75be996",
              "IPY_MODEL_c8fe72f591f240ce9a81d9ea5000a18a",
              "IPY_MODEL_8cbce306041842239da6b974e5d74996"
            ],
            "layout": "IPY_MODEL_dbbbb5fd728e4040b2503fb25238a6b3"
          }
        },
        "57d3b1408f2b4fcbb3f4216bf75be996": {
          "model_module": "@jupyter-widgets/controls",
          "model_name": "HTMLModel",
          "model_module_version": "1.5.0",
          "state": {
            "_dom_classes": [],
            "_model_module": "@jupyter-widgets/controls",
            "_model_module_version": "1.5.0",
            "_model_name": "HTMLModel",
            "_view_count": null,
            "_view_module": "@jupyter-widgets/controls",
            "_view_module_version": "1.5.0",
            "_view_name": "HTMLView",
            "description": "",
            "description_tooltip": null,
            "layout": "IPY_MODEL_e6057c9054cb4a59a1972afdc5725be2",
            "placeholder": "​",
            "style": "IPY_MODEL_edb4c83aa7f1468b8b58a04885cfd5ed",
            "value": "100%"
          }
        },
        "c8fe72f591f240ce9a81d9ea5000a18a": {
          "model_module": "@jupyter-widgets/controls",
          "model_name": "FloatProgressModel",
          "model_module_version": "1.5.0",
          "state": {
            "_dom_classes": [],
            "_model_module": "@jupyter-widgets/controls",
            "_model_module_version": "1.5.0",
            "_model_name": "FloatProgressModel",
            "_view_count": null,
            "_view_module": "@jupyter-widgets/controls",
            "_view_module_version": "1.5.0",
            "_view_name": "ProgressView",
            "bar_style": "success",
            "description": "",
            "description_tooltip": null,
            "layout": "IPY_MODEL_ff60be7b8cf04a569529068ada41494e",
            "max": 170498071,
            "min": 0,
            "orientation": "horizontal",
            "style": "IPY_MODEL_7c8d8b1c2a3648d2a83bd94ec10e43e3",
            "value": 170498071
          }
        },
        "8cbce306041842239da6b974e5d74996": {
          "model_module": "@jupyter-widgets/controls",
          "model_name": "HTMLModel",
          "model_module_version": "1.5.0",
          "state": {
            "_dom_classes": [],
            "_model_module": "@jupyter-widgets/controls",
            "_model_module_version": "1.5.0",
            "_model_name": "HTMLModel",
            "_view_count": null,
            "_view_module": "@jupyter-widgets/controls",
            "_view_module_version": "1.5.0",
            "_view_name": "HTMLView",
            "description": "",
            "description_tooltip": null,
            "layout": "IPY_MODEL_a1216f3a5e0046298a97196da2d52958",
            "placeholder": "​",
            "style": "IPY_MODEL_74de407e35b240a394ba9bfb6a814ee5",
            "value": " 170498071/170498071 [00:12&lt;00:00, 15462505.95it/s]"
          }
        },
        "dbbbb5fd728e4040b2503fb25238a6b3": {
          "model_module": "@jupyter-widgets/base",
          "model_name": "LayoutModel",
          "model_module_version": "1.2.0",
          "state": {
            "_model_module": "@jupyter-widgets/base",
            "_model_module_version": "1.2.0",
            "_model_name": "LayoutModel",
            "_view_count": null,
            "_view_module": "@jupyter-widgets/base",
            "_view_module_version": "1.2.0",
            "_view_name": "LayoutView",
            "align_content": null,
            "align_items": null,
            "align_self": null,
            "border": null,
            "bottom": null,
            "display": null,
            "flex": null,
            "flex_flow": null,
            "grid_area": null,
            "grid_auto_columns": null,
            "grid_auto_flow": null,
            "grid_auto_rows": null,
            "grid_column": null,
            "grid_gap": null,
            "grid_row": null,
            "grid_template_areas": null,
            "grid_template_columns": null,
            "grid_template_rows": null,
            "height": null,
            "justify_content": null,
            "justify_items": null,
            "left": null,
            "margin": null,
            "max_height": null,
            "max_width": null,
            "min_height": null,
            "min_width": null,
            "object_fit": null,
            "object_position": null,
            "order": null,
            "overflow": null,
            "overflow_x": null,
            "overflow_y": null,
            "padding": null,
            "right": null,
            "top": null,
            "visibility": null,
            "width": null
          }
        },
        "e6057c9054cb4a59a1972afdc5725be2": {
          "model_module": "@jupyter-widgets/base",
          "model_name": "LayoutModel",
          "model_module_version": "1.2.0",
          "state": {
            "_model_module": "@jupyter-widgets/base",
            "_model_module_version": "1.2.0",
            "_model_name": "LayoutModel",
            "_view_count": null,
            "_view_module": "@jupyter-widgets/base",
            "_view_module_version": "1.2.0",
            "_view_name": "LayoutView",
            "align_content": null,
            "align_items": null,
            "align_self": null,
            "border": null,
            "bottom": null,
            "display": null,
            "flex": null,
            "flex_flow": null,
            "grid_area": null,
            "grid_auto_columns": null,
            "grid_auto_flow": null,
            "grid_auto_rows": null,
            "grid_column": null,
            "grid_gap": null,
            "grid_row": null,
            "grid_template_areas": null,
            "grid_template_columns": null,
            "grid_template_rows": null,
            "height": null,
            "justify_content": null,
            "justify_items": null,
            "left": null,
            "margin": null,
            "max_height": null,
            "max_width": null,
            "min_height": null,
            "min_width": null,
            "object_fit": null,
            "object_position": null,
            "order": null,
            "overflow": null,
            "overflow_x": null,
            "overflow_y": null,
            "padding": null,
            "right": null,
            "top": null,
            "visibility": null,
            "width": null
          }
        },
        "edb4c83aa7f1468b8b58a04885cfd5ed": {
          "model_module": "@jupyter-widgets/controls",
          "model_name": "DescriptionStyleModel",
          "model_module_version": "1.5.0",
          "state": {
            "_model_module": "@jupyter-widgets/controls",
            "_model_module_version": "1.5.0",
            "_model_name": "DescriptionStyleModel",
            "_view_count": null,
            "_view_module": "@jupyter-widgets/base",
            "_view_module_version": "1.2.0",
            "_view_name": "StyleView",
            "description_width": ""
          }
        },
        "ff60be7b8cf04a569529068ada41494e": {
          "model_module": "@jupyter-widgets/base",
          "model_name": "LayoutModel",
          "model_module_version": "1.2.0",
          "state": {
            "_model_module": "@jupyter-widgets/base",
            "_model_module_version": "1.2.0",
            "_model_name": "LayoutModel",
            "_view_count": null,
            "_view_module": "@jupyter-widgets/base",
            "_view_module_version": "1.2.0",
            "_view_name": "LayoutView",
            "align_content": null,
            "align_items": null,
            "align_self": null,
            "border": null,
            "bottom": null,
            "display": null,
            "flex": null,
            "flex_flow": null,
            "grid_area": null,
            "grid_auto_columns": null,
            "grid_auto_flow": null,
            "grid_auto_rows": null,
            "grid_column": null,
            "grid_gap": null,
            "grid_row": null,
            "grid_template_areas": null,
            "grid_template_columns": null,
            "grid_template_rows": null,
            "height": null,
            "justify_content": null,
            "justify_items": null,
            "left": null,
            "margin": null,
            "max_height": null,
            "max_width": null,
            "min_height": null,
            "min_width": null,
            "object_fit": null,
            "object_position": null,
            "order": null,
            "overflow": null,
            "overflow_x": null,
            "overflow_y": null,
            "padding": null,
            "right": null,
            "top": null,
            "visibility": null,
            "width": null
          }
        },
        "7c8d8b1c2a3648d2a83bd94ec10e43e3": {
          "model_module": "@jupyter-widgets/controls",
          "model_name": "ProgressStyleModel",
          "model_module_version": "1.5.0",
          "state": {
            "_model_module": "@jupyter-widgets/controls",
            "_model_module_version": "1.5.0",
            "_model_name": "ProgressStyleModel",
            "_view_count": null,
            "_view_module": "@jupyter-widgets/base",
            "_view_module_version": "1.2.0",
            "_view_name": "StyleView",
            "bar_color": null,
            "description_width": ""
          }
        },
        "a1216f3a5e0046298a97196da2d52958": {
          "model_module": "@jupyter-widgets/base",
          "model_name": "LayoutModel",
          "model_module_version": "1.2.0",
          "state": {
            "_model_module": "@jupyter-widgets/base",
            "_model_module_version": "1.2.0",
            "_model_name": "LayoutModel",
            "_view_count": null,
            "_view_module": "@jupyter-widgets/base",
            "_view_module_version": "1.2.0",
            "_view_name": "LayoutView",
            "align_content": null,
            "align_items": null,
            "align_self": null,
            "border": null,
            "bottom": null,
            "display": null,
            "flex": null,
            "flex_flow": null,
            "grid_area": null,
            "grid_auto_columns": null,
            "grid_auto_flow": null,
            "grid_auto_rows": null,
            "grid_column": null,
            "grid_gap": null,
            "grid_row": null,
            "grid_template_areas": null,
            "grid_template_columns": null,
            "grid_template_rows": null,
            "height": null,
            "justify_content": null,
            "justify_items": null,
            "left": null,
            "margin": null,
            "max_height": null,
            "max_width": null,
            "min_height": null,
            "min_width": null,
            "object_fit": null,
            "object_position": null,
            "order": null,
            "overflow": null,
            "overflow_x": null,
            "overflow_y": null,
            "padding": null,
            "right": null,
            "top": null,
            "visibility": null,
            "width": null
          }
        },
        "74de407e35b240a394ba9bfb6a814ee5": {
          "model_module": "@jupyter-widgets/controls",
          "model_name": "DescriptionStyleModel",
          "model_module_version": "1.5.0",
          "state": {
            "_model_module": "@jupyter-widgets/controls",
            "_model_module_version": "1.5.0",
            "_model_name": "DescriptionStyleModel",
            "_view_count": null,
            "_view_module": "@jupyter-widgets/base",
            "_view_module_version": "1.2.0",
            "_view_name": "StyleView",
            "description_width": ""
          }
        }
      }
    }
  },
  "cells": [
    {
      "cell_type": "code",
      "execution_count": null,
      "metadata": {
        "colab": {
          "base_uri": "https://localhost:8080/"
        },
        "id": "kZFJrRp06eYl",
        "outputId": "93b60466-78d2-4826-f67f-6b2233d1645b"
      },
      "outputs": [
        {
          "output_type": "stream",
          "name": "stdout",
          "text": [
            "Looking in indexes: https://pypi.org/simple, https://us-python.pkg.dev/colab-wheels/public/simple/\n",
            "Requirement already satisfied: requests in /usr/local/lib/python3.7/dist-packages (2.23.0)\n",
            "Requirement already satisfied: certifi>=2017.4.17 in /usr/local/lib/python3.7/dist-packages (from requests) (2022.9.24)\n",
            "Requirement already satisfied: idna<3,>=2.5 in /usr/local/lib/python3.7/dist-packages (from requests) (2.10)\n",
            "Requirement already satisfied: chardet<4,>=3.0.2 in /usr/local/lib/python3.7/dist-packages (from requests) (3.0.4)\n",
            "Requirement already satisfied: urllib3!=1.25.0,!=1.25.1,<1.26,>=1.21.1 in /usr/local/lib/python3.7/dist-packages (from requests) (1.24.3)\n"
          ]
        }
      ],
      "source": [
        "!pip install requests"
      ]
    },
    {
      "cell_type": "code",
      "source": [
        "import requests\n",
        "url='https://raw.githubusercontent.com/NVDLI/LDL/main/pt_framework/utilities.py'\n",
        "r=requests.get(url)\n",
        "\n",
        "with open('utilities.py', 'w') as f:\n",
        "  f.write(r.text)"
      ],
      "metadata": {
        "id": "en-NorYL6oqB"
      },
      "execution_count": null,
      "outputs": []
    },
    {
      "cell_type": "code",
      "source": [
        "import torch\n",
        "import torch.nn as nn\n",
        "import torchvision\n",
        "import torchvision.transforms as transforms\n",
        "from torchvision.datasets import CIFAR10\n",
        "from torch.utils.data import DataLoader\n",
        "import numpy as np\n",
        "from utilities import train_model\n",
        "\n",
        "device = torch.device(\"cuda:0\" if torch.cuda.is_available() else \"cpu\")\n",
        "EPOCHS = 128\n",
        "BATCH_SIZE=32\n",
        "\n",
        "transform=transforms.Compose([transforms.ToTensor()])\n",
        "trainset=CIFAR10(root='./pt_data', train=True, download=True, transform=transform)\n",
        "trainloader=DataLoader(trainset, batch_size=len(trainset), shuffle=False)\n",
        "data=next(iter(trainloader))\n",
        "mean=data[0].mean()\n",
        "stddev=data[0].std()"
      ],
      "metadata": {
        "colab": {
          "base_uri": "https://localhost:8080/",
          "height": 84,
          "referenced_widgets": [
            "d824b520dc194485a515fa1374a80800",
            "57d3b1408f2b4fcbb3f4216bf75be996",
            "c8fe72f591f240ce9a81d9ea5000a18a",
            "8cbce306041842239da6b974e5d74996",
            "dbbbb5fd728e4040b2503fb25238a6b3",
            "e6057c9054cb4a59a1972afdc5725be2",
            "edb4c83aa7f1468b8b58a04885cfd5ed",
            "ff60be7b8cf04a569529068ada41494e",
            "7c8d8b1c2a3648d2a83bd94ec10e43e3",
            "a1216f3a5e0046298a97196da2d52958",
            "74de407e35b240a394ba9bfb6a814ee5"
          ]
        },
        "id": "9bdAy81g6s_K",
        "outputId": "be652468-3b60-41bd-87c7-803dabe7a114"
      },
      "execution_count": null,
      "outputs": [
        {
          "output_type": "stream",
          "name": "stdout",
          "text": [
            "Downloading https://www.cs.toronto.edu/~kriz/cifar-10-python.tar.gz to ./pt_data/cifar-10-python.tar.gz\n"
          ]
        },
        {
          "output_type": "display_data",
          "data": {
            "text/plain": [
              "  0%|          | 0/170498071 [00:00<?, ?it/s]"
            ],
            "application/vnd.jupyter.widget-view+json": {
              "version_major": 2,
              "version_minor": 0,
              "model_id": "d824b520dc194485a515fa1374a80800"
            }
          },
          "metadata": {}
        },
        {
          "output_type": "stream",
          "name": "stdout",
          "text": [
            "Extracting ./pt_data/cifar-10-python.tar.gz to ./pt_data\n"
          ]
        }
      ]
    },
    {
      "cell_type": "code",
      "source": [
        "transform=transforms.Compose(\n",
        "    [transforms.ToTensor(),\n",
        "     transforms.Normalize(mean, stddev)])\n",
        "\n",
        "trainset=CIFAR10(root='./pt_data', train=True, download=True, transform=transform)\n",
        "testset=CIFAR10(root='./pt_data', train=False, download=True, transform=transform)\n",
        "\n",
        "model=nn.Sequential(\n",
        "    nn.Conv2d(3, 64, 5, stride=2, padding=2),\n",
        "    nn.ReLU(),\n",
        "    nn.Conv2d(64, 64, 3, stride=2, padding=1),\n",
        "    nn.ReLU(),\n",
        "    nn.Flatten(),\n",
        "    nn.Linear(64*8*8, 10)\n",
        ")"
      ],
      "metadata": {
        "colab": {
          "base_uri": "https://localhost:8080/"
        },
        "id": "bnXiCtSL6vID",
        "outputId": "c00bdb87-ecd0-46d8-bf39-132bc1634f1c"
      },
      "execution_count": null,
      "outputs": [
        {
          "output_type": "stream",
          "name": "stdout",
          "text": [
            "Files already downloaded and verified\n",
            "Files already downloaded and verified\n"
          ]
        }
      ]
    },
    {
      "cell_type": "code",
      "source": [
        "layers=next(model.modules())\n",
        "conv_layer0=layers[0]\n",
        "conv_layer1=layers[2]\n",
        "output_layer=layers[5]\n",
        "\n",
        "nn.init.kaiming_normal_(conv_layer0.weight)\n",
        "nn.init.constant_(conv_layer0.bias, 0.0)\n",
        "nn.init.kaiming_normal_(conv_layer1.weight)\n",
        "nn.init.constant_(conv_layer1.bias, 0.0)\n",
        "\n",
        "nn.init.xavier_uniform_(output_layer.weight)\n",
        "nn.init.constant_(output_layer.bias, 0.0)\n",
        "\n",
        "optimizer=torch.optim.Adam(model.parameters())\n",
        "loss_function=nn.CrossEntropyLoss()\n",
        "\n",
        "train_model(model, device, EPOCHS, BATCH_SIZE, trainset, testset, optimizer, loss_function, 'acc')"
      ],
      "metadata": {
        "colab": {
          "base_uri": "https://localhost:8080/"
        },
        "id": "GtMTqzOk64Bc",
        "outputId": "2cfa81bd-c3de-4249-d89d-050c8c64df38"
      },
      "execution_count": null,
      "outputs": [
        {
          "output_type": "stream",
          "name": "stdout",
          "text": [
            "Epoch 1/128 loss: 1.3903 - acc: 0.5122 - val_loss: 1.1545 - val_acc: 0.5907\n",
            "Epoch 2/128 loss: 1.0424 - acc: 0.6398 - val_loss: 1.0786 - val_acc: 0.6226\n",
            "Epoch 3/128 loss: 0.9050 - acc: 0.6863 - val_loss: 1.0773 - val_acc: 0.6305\n",
            "Epoch 4/128 loss: 0.8108 - acc: 0.7187 - val_loss: 1.0525 - val_acc: 0.6486\n",
            "Epoch 5/128 loss: 0.7262 - acc: 0.7503 - val_loss: 1.0587 - val_acc: 0.6489\n",
            "Epoch 6/128 loss: 0.6588 - acc: 0.7715 - val_loss: 1.0956 - val_acc: 0.6557\n",
            "Epoch 7/128 loss: 0.6019 - acc: 0.7900 - val_loss: 1.1261 - val_acc: 0.6454\n",
            "Epoch 8/128 loss: 0.5482 - acc: 0.8076 - val_loss: 1.2003 - val_acc: 0.6451\n",
            "Epoch 9/128 loss: 0.5005 - acc: 0.8232 - val_loss: 1.2411 - val_acc: 0.6501\n",
            "Epoch 10/128 loss: 0.4632 - acc: 0.8359 - val_loss: 1.3233 - val_acc: 0.6434\n",
            "Epoch 11/128 loss: 0.4235 - acc: 0.8492 - val_loss: 1.3614 - val_acc: 0.6485\n",
            "Epoch 12/128 loss: 0.3904 - acc: 0.8612 - val_loss: 1.4645 - val_acc: 0.6415\n",
            "Epoch 13/128 loss: 0.3620 - acc: 0.8712 - val_loss: 1.6011 - val_acc: 0.6313\n",
            "Epoch 14/128 loss: 0.3385 - acc: 0.8784 - val_loss: 1.6757 - val_acc: 0.6300\n",
            "Epoch 15/128 loss: 0.3115 - acc: 0.8869 - val_loss: 1.8301 - val_acc: 0.6316\n",
            "Epoch 16/128 loss: 0.2995 - acc: 0.8915 - val_loss: 1.8674 - val_acc: 0.6263\n",
            "Epoch 17/128 loss: 0.2692 - acc: 0.9041 - val_loss: 1.9310 - val_acc: 0.6257\n",
            "Epoch 18/128 loss: 0.2547 - acc: 0.9088 - val_loss: 2.0788 - val_acc: 0.6243\n",
            "Epoch 19/128 loss: 0.2466 - acc: 0.9106 - val_loss: 2.1132 - val_acc: 0.6215\n",
            "Epoch 20/128 loss: 0.2358 - acc: 0.9138 - val_loss: 2.1852 - val_acc: 0.6316\n",
            "Epoch 21/128 loss: 0.2192 - acc: 0.9201 - val_loss: 2.3344 - val_acc: 0.6233\n",
            "Epoch 22/128 loss: 0.2063 - acc: 0.9259 - val_loss: 2.4658 - val_acc: 0.6243\n",
            "Epoch 23/128 loss: 0.1984 - acc: 0.9275 - val_loss: 2.5706 - val_acc: 0.6222\n",
            "Epoch 24/128 loss: 0.1951 - acc: 0.9304 - val_loss: 2.6923 - val_acc: 0.6265\n",
            "Epoch 25/128 loss: 0.1884 - acc: 0.9326 - val_loss: 2.7043 - val_acc: 0.6201\n",
            "Epoch 26/128 loss: 0.1799 - acc: 0.9357 - val_loss: 2.8414 - val_acc: 0.6259\n",
            "Epoch 27/128 loss: 0.1772 - acc: 0.9366 - val_loss: 3.0117 - val_acc: 0.6151\n",
            "Epoch 28/128 loss: 0.1734 - acc: 0.9381 - val_loss: 2.9809 - val_acc: 0.6224\n",
            "Epoch 29/128 loss: 0.1658 - acc: 0.9419 - val_loss: 3.1805 - val_acc: 0.6171\n",
            "Epoch 30/128 loss: 0.1699 - acc: 0.9404 - val_loss: 3.2720 - val_acc: 0.6204\n",
            "Epoch 31/128 loss: 0.1651 - acc: 0.9427 - val_loss: 3.2914 - val_acc: 0.6267\n",
            "Epoch 32/128 loss: 0.1501 - acc: 0.9478 - val_loss: 3.3816 - val_acc: 0.6182\n",
            "Epoch 33/128 loss: 0.1594 - acc: 0.9446 - val_loss: 3.5039 - val_acc: 0.6236\n",
            "Epoch 34/128 loss: 0.1531 - acc: 0.9484 - val_loss: 3.6784 - val_acc: 0.6175\n",
            "Epoch 35/128 loss: 0.1414 - acc: 0.9516 - val_loss: 3.6711 - val_acc: 0.6168\n",
            "Epoch 36/128 loss: 0.1522 - acc: 0.9476 - val_loss: 3.7684 - val_acc: 0.6179\n",
            "Epoch 37/128 loss: 0.1460 - acc: 0.9505 - val_loss: 3.8795 - val_acc: 0.6234\n",
            "Epoch 38/128 loss: 0.1485 - acc: 0.9507 - val_loss: 3.9564 - val_acc: 0.6131\n",
            "Epoch 39/128 loss: 0.1423 - acc: 0.9527 - val_loss: 4.0556 - val_acc: 0.6166\n",
            "Epoch 40/128 loss: 0.1384 - acc: 0.9541 - val_loss: 4.0984 - val_acc: 0.6221\n",
            "Epoch 41/128 loss: 0.1419 - acc: 0.9533 - val_loss: 4.2069 - val_acc: 0.6151\n",
            "Epoch 42/128 loss: 0.1445 - acc: 0.9539 - val_loss: 4.3008 - val_acc: 0.6194\n",
            "Epoch 43/128 loss: 0.1429 - acc: 0.9542 - val_loss: 4.3575 - val_acc: 0.6232\n",
            "Epoch 44/128 loss: 0.1438 - acc: 0.9541 - val_loss: 4.4555 - val_acc: 0.6219\n",
            "Epoch 45/128 loss: 0.1319 - acc: 0.9573 - val_loss: 4.5885 - val_acc: 0.6248\n",
            "Epoch 46/128 loss: 0.1419 - acc: 0.9555 - val_loss: 4.6943 - val_acc: 0.6082\n",
            "Epoch 47/128 loss: 0.1380 - acc: 0.9574 - val_loss: 4.7848 - val_acc: 0.6169\n",
            "Epoch 48/128 loss: 0.1328 - acc: 0.9575 - val_loss: 4.7930 - val_acc: 0.6252\n",
            "Epoch 49/128 loss: 0.1401 - acc: 0.9577 - val_loss: 5.0037 - val_acc: 0.6150\n",
            "Epoch 50/128 loss: 0.1356 - acc: 0.9591 - val_loss: 4.9937 - val_acc: 0.6187\n",
            "Epoch 51/128 loss: 0.1287 - acc: 0.9602 - val_loss: 5.1552 - val_acc: 0.6161\n",
            "Epoch 52/128 loss: 0.1345 - acc: 0.9592 - val_loss: 5.2948 - val_acc: 0.6086\n",
            "Epoch 53/128 loss: 0.1353 - acc: 0.9605 - val_loss: 5.2821 - val_acc: 0.6257\n",
            "Epoch 54/128 loss: 0.1350 - acc: 0.9599 - val_loss: 5.4403 - val_acc: 0.6212\n",
            "Epoch 55/128 loss: 0.1227 - acc: 0.9628 - val_loss: 5.6228 - val_acc: 0.6196\n",
            "Epoch 56/128 loss: 0.1371 - acc: 0.9599 - val_loss: 5.5857 - val_acc: 0.6168\n",
            "Epoch 57/128 loss: 0.1306 - acc: 0.9621 - val_loss: 5.6471 - val_acc: 0.6114\n"
          ]
        }
      ]
    }
  ]
}