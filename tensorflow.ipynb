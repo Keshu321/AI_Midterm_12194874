{
  "nbformat": 4,
  "nbformat_minor": 0,
  "metadata": {
    "colab": {
      "provenance": [],
      "include_colab_link": true
    },
    "kernelspec": {
      "name": "python3",
      "display_name": "Python 3"
    },
    "language_info": {
      "name": "python"
    }
  },
  "cells": [
    {
      "cell_type": "markdown",
      "metadata": {
        "id": "view-in-github",
        "colab_type": "text"
      },
      "source": [
        "<a href=\"https://colab.research.google.com/github/Keshu321/AI_Midterm_12194874/blob/main/tensorflow.ipynb\" target=\"_parent\"><img src=\"https://colab.research.google.com/assets/colab-badge.svg\" alt=\"Open In Colab\"/></a>"
      ]
    },
    {
      "cell_type": "code",
      "execution_count": 1,
      "metadata": {
        "id": "OcS_dQZBigJg"
      },
      "outputs": [],
      "source": [
        "import tensorflow as tf\n",
        "\n",
        "writer = tf.summary.create_file_writer('./graphs')\n",
        "\n",
        "accuracy = [0.1, 0.4, 0.6, 0.8, 0.9, 0.95 ]\n",
        "\n",
        "with writer.as_default():\n",
        "  for step, acc in enumerate(accuracy):\n",
        "    tf.summary.scalar('Accuracy', acc, step)\n",
        "    writer.flush()\n",
        "\n",
        "writer.close()"
      ]
    },
    {
      "cell_type": "code",
      "source": [
        "!tensorboard --logdir='./graphs/'"
      ],
      "metadata": {
        "colab": {
          "base_uri": "https://localhost:8080/"
        },
        "id": "a3US20bJkGMW",
        "outputId": "4f7cefb1-86de-4090-8c53-3436f4e57ebe"
      },
      "execution_count": 3,
      "outputs": [
        {
          "output_type": "stream",
          "name": "stdout",
          "text": [
            "2022-10-21 00:50:41.363073: E tensorflow/stream_executor/cuda/cuda_driver.cc:271] failed call to cuInit: CUDA_ERROR_NO_DEVICE: no CUDA-capable device is detected\n",
            "\n",
            "NOTE: Using experimental fast data loading logic. To disable, pass\n",
            "    \"--load_fast=false\" and report issues on GitHub. More details:\n",
            "    https://github.com/tensorflow/tensorboard/issues/4784\n",
            "\n",
            "Serving TensorBoard on localhost; to expose to the network, use a proxy or pass --bind_all\n",
            "TensorBoard 2.9.1 at http://localhost:6006/ (Press CTRL+C to quit)\n",
            "Error in atexit._run_exitfuncs:\n",
            "Traceback (most recent call last):\n",
            "  File \"/usr/lib/python3.7/logging/__init__.py\", line 2035, in shutdown\n",
            "    h.acquire()\n",
            "  File \"/usr/lib/python3.7/logging/__init__.py\", line 842, in acquire\n",
            "    if self.lock:\n",
            "KeyboardInterrupt\n",
            "\n",
            "During handling of the above exception, another exception occurred:\n",
            "\n",
            "Traceback (most recent call last):\n",
            "  File \"/usr/lib/python3.7/logging/__init__.py\", line 2045, in shutdown\n",
            "    h.release()\n",
            "  File \"/usr/lib/python3.7/logging/__init__.py\", line 850, in release\n",
            "    self.lock.release()\n",
            "RuntimeError: cannot release un-acquired lock\n"
          ]
        }
      ]
    }
  ]
}