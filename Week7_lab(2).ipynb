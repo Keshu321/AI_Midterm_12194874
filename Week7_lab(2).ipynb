{
  "nbformat": 4,
  "nbformat_minor": 0,
  "metadata": {
    "colab": {
      "provenance": [],
      "collapsed_sections": [],
      "include_colab_link": true
    },
    "kernelspec": {
      "name": "python3",
      "display_name": "Python 3"
    },
    "language_info": {
      "name": "python"
    },
    "widgets": {
      "application/vnd.jupyter.widget-state+json": {
        "d824b520dc194485a515fa1374a80800": {
          "model_module": "@jupyter-widgets/controls",
          "model_name": "HBoxModel",
          "model_module_version": "1.5.0",
          "state": {
            "_dom_classes": [],
            "_model_module": "@jupyter-widgets/controls",
            "_model_module_version": "1.5.0",
            "_model_name": "HBoxModel",
            "_view_count": null,
            "_view_module": "@jupyter-widgets/controls",
            "_view_module_version": "1.5.0",
            "_view_name": "HBoxView",
            "box_style": "",
            "children": [
              "IPY_MODEL_57d3b1408f2b4fcbb3f4216bf75be996",
              "IPY_MODEL_c8fe72f591f240ce9a81d9ea5000a18a",
              "IPY_MODEL_8cbce306041842239da6b974e5d74996"
            ],
            "layout": "IPY_MODEL_dbbbb5fd728e4040b2503fb25238a6b3"
          }
        },
        "57d3b1408f2b4fcbb3f4216bf75be996": {
          "model_module": "@jupyter-widgets/controls",
          "model_name": "HTMLModel",
          "model_module_version": "1.5.0",
          "state": {
            "_dom_classes": [],
            "_model_module": "@jupyter-widgets/controls",
            "_model_module_version": "1.5.0",
            "_model_name": "HTMLModel",
            "_view_count": null,
            "_view_module": "@jupyter-widgets/controls",
            "_view_module_version": "1.5.0",
            "_view_name": "HTMLView",
            "description": "",
            "description_tooltip": null,
            "layout": "IPY_MODEL_e6057c9054cb4a59a1972afdc5725be2",
            "placeholder": "​",
            "style": "IPY_MODEL_edb4c83aa7f1468b8b58a04885cfd5ed",
            "value": "100%"
          }
        },
        "c8fe72f591f240ce9a81d9ea5000a18a": {
          "model_module": "@jupyter-widgets/controls",
          "model_name": "FloatProgressModel",
          "model_module_version": "1.5.0",
          "state": {
            "_dom_classes": [],
            "_model_module": "@jupyter-widgets/controls",
            "_model_module_version": "1.5.0",
            "_model_name": "FloatProgressModel",
            "_view_count": null,
            "_view_module": "@jupyter-widgets/controls",
            "_view_module_version": "1.5.0",
            "_view_name": "ProgressView",
            "bar_style": "success",
            "description": "",
            "description_tooltip": null,
            "layout": "IPY_MODEL_ff60be7b8cf04a569529068ada41494e",
            "max": 170498071,
            "min": 0,
            "orientation": "horizontal",
            "style": "IPY_MODEL_7c8d8b1c2a3648d2a83bd94ec10e43e3",
            "value": 170498071
          }
        },
        "8cbce306041842239da6b974e5d74996": {
          "model_module": "@jupyter-widgets/controls",
          "model_name": "HTMLModel",
          "model_module_version": "1.5.0",
          "state": {
            "_dom_classes": [],
            "_model_module": "@jupyter-widgets/controls",
            "_model_module_version": "1.5.0",
            "_model_name": "HTMLModel",
            "_view_count": null,
            "_view_module": "@jupyter-widgets/controls",
            "_view_module_version": "1.5.0",
            "_view_name": "HTMLView",
            "description": "",
            "description_tooltip": null,
            "layout": "IPY_MODEL_a1216f3a5e0046298a97196da2d52958",
            "placeholder": "​",
            "style": "IPY_MODEL_74de407e35b240a394ba9bfb6a814ee5",
            "value": " 170498071/170498071 [00:12&lt;00:00, 15462505.95it/s]"
          }
        },
        "dbbbb5fd728e4040b2503fb25238a6b3": {
          "model_module": "@jupyter-widgets/base",
          "model_name": "LayoutModel",
          "model_module_version": "1.2.0",
          "state": {
            "_model_module": "@jupyter-widgets/base",
            "_model_module_version": "1.2.0",
            "_model_name": "LayoutModel",
            "_view_count": null,
            "_view_module": "@jupyter-widgets/base",
            "_view_module_version": "1.2.0",
            "_view_name": "LayoutView",
            "align_content": null,
            "align_items": null,
            "align_self": null,
            "border": null,
            "bottom": null,
            "display": null,
            "flex": null,
            "flex_flow": null,
            "grid_area": null,
            "grid_auto_columns": null,
            "grid_auto_flow": null,
            "grid_auto_rows": null,
            "grid_column": null,
            "grid_gap": null,
            "grid_row": null,
            "grid_template_areas": null,
            "grid_template_columns": null,
            "grid_template_rows": null,
            "height": null,
            "justify_content": null,
            "justify_items": null,
            "left": null,
            "margin": null,
            "max_height": null,
            "max_width": null,
            "min_height": null,
            "min_width": null,
            "object_fit": null,
            "object_position": null,
            "order": null,
            "overflow": null,
            "overflow_x": null,
            "overflow_y": null,
            "padding": null,
            "right": null,
            "top": null,
            "visibility": null,
            "width": null
          }
        },
        "e6057c9054cb4a59a1972afdc5725be2": {
          "model_module": "@jupyter-widgets/base",
          "model_name": "LayoutModel",
          "model_module_version": "1.2.0",
          "state": {
            "_model_module": "@jupyter-widgets/base",
            "_model_module_version": "1.2.0",
            "_model_name": "LayoutModel",
            "_view_count": null,
            "_view_module": "@jupyter-widgets/base",
            "_view_module_version": "1.2.0",
            "_view_name": "LayoutView",
            "align_content": null,
            "align_items": null,
            "align_self": null,
            "border": null,
            "bottom": null,
            "display": null,
            "flex": null,
            "flex_flow": null,
            "grid_area": null,
            "grid_auto_columns": null,
            "grid_auto_flow": null,
            "grid_auto_rows": null,
            "grid_column": null,
            "grid_gap": null,
            "grid_row": null,
            "grid_template_areas": null,
            "grid_template_columns": null,
            "grid_template_rows": null,
            "height": null,
            "justify_content": null,
            "justify_items": null,
            "left": null,
            "margin": null,
            "max_height": null,
            "max_width": null,
            "min_height": null,
            "min_width": null,
            "object_fit": null,
            "object_position": null,
            "order": null,
            "overflow": null,
            "overflow_x": null,
            "overflow_y": null,
            "padding": null,
            "right": null,
            "top": null,
            "visibility": null,
            "width": null
          }
        },
        "edb4c83aa7f1468b8b58a04885cfd5ed": {
          "model_module": "@jupyter-widgets/controls",
          "model_name": "DescriptionStyleModel",
          "model_module_version": "1.5.0",
          "state": {
            "_model_module": "@jupyter-widgets/controls",
            "_model_module_version": "1.5.0",
            "_model_name": "DescriptionStyleModel",
            "_view_count": null,
            "_view_module": "@jupyter-widgets/base",
            "_view_module_version": "1.2.0",
            "_view_name": "StyleView",
            "description_width": ""
          }
        },
        "ff60be7b8cf04a569529068ada41494e": {
          "model_module": "@jupyter-widgets/base",
          "model_name": "LayoutModel",
          "model_module_version": "1.2.0",
          "state": {
            "_model_module": "@jupyter-widgets/base",
            "_model_module_version": "1.2.0",
            "_model_name": "LayoutModel",
            "_view_count": null,
            "_view_module": "@jupyter-widgets/base",
            "_view_module_version": "1.2.0",
            "_view_name": "LayoutView",
            "align_content": null,
            "align_items": null,
            "align_self": null,
            "border": null,
            "bottom": null,
            "display": null,
            "flex": null,
            "flex_flow": null,
            "grid_area": null,
            "grid_auto_columns": null,
            "grid_auto_flow": null,
            "grid_auto_rows": null,
            "grid_column": null,
            "grid_gap": null,
            "grid_row": null,
            "grid_template_areas": null,
            "grid_template_columns": null,
            "grid_template_rows": null,
            "height": null,
            "justify_content": null,
            "justify_items": null,
            "left": null,
            "margin": null,
            "max_height": null,
            "max_width": null,
            "min_height": null,
            "min_width": null,
            "object_fit": null,
            "object_position": null,
            "order": null,
            "overflow": null,
            "overflow_x": null,
            "overflow_y": null,
            "padding": null,
            "right": null,
            "top": null,
            "visibility": null,
            "width": null
          }
        },
        "7c8d8b1c2a3648d2a83bd94ec10e43e3": {
          "model_module": "@jupyter-widgets/controls",
          "model_name": "ProgressStyleModel",
          "model_module_version": "1.5.0",
          "state": {
            "_model_module": "@jupyter-widgets/controls",
            "_model_module_version": "1.5.0",
            "_model_name": "ProgressStyleModel",
            "_view_count": null,
            "_view_module": "@jupyter-widgets/base",
            "_view_module_version": "1.2.0",
            "_view_name": "StyleView",
            "bar_color": null,
            "description_width": ""
          }
        },
        "a1216f3a5e0046298a97196da2d52958": {
          "model_module": "@jupyter-widgets/base",
          "model_name": "LayoutModel",
          "model_module_version": "1.2.0",
          "state": {
            "_model_module": "@jupyter-widgets/base",
            "_model_module_version": "1.2.0",
            "_model_name": "LayoutModel",
            "_view_count": null,
            "_view_module": "@jupyter-widgets/base",
            "_view_module_version": "1.2.0",
            "_view_name": "LayoutView",
            "align_content": null,
            "align_items": null,
            "align_self": null,
            "border": null,
            "bottom": null,
            "display": null,
            "flex": null,
            "flex_flow": null,
            "grid_area": null,
            "grid_auto_columns": null,
            "grid_auto_flow": null,
            "grid_auto_rows": null,
            "grid_column": null,
            "grid_gap": null,
            "grid_row": null,
            "grid_template_areas": null,
            "grid_template_columns": null,
            "grid_template_rows": null,
            "height": null,
            "justify_content": null,
            "justify_items": null,
            "left": null,
            "margin": null,
            "max_height": null,
            "max_width": null,
            "min_height": null,
            "min_width": null,
            "object_fit": null,
            "object_position": null,
            "order": null,
            "overflow": null,
            "overflow_x": null,
            "overflow_y": null,
            "padding": null,
            "right": null,
            "top": null,
            "visibility": null,
            "width": null
          }
        },
        "74de407e35b240a394ba9bfb6a814ee5": {
          "model_module": "@jupyter-widgets/controls",
          "model_name": "DescriptionStyleModel",
          "model_module_version": "1.5.0",
          "state": {
            "_model_module": "@jupyter-widgets/controls",
            "_model_module_version": "1.5.0",
            "_model_name": "DescriptionStyleModel",
            "_view_count": null,
            "_view_module": "@jupyter-widgets/base",
            "_view_module_version": "1.2.0",
            "_view_name": "StyleView",
            "description_width": ""
          }
        }
      }
    }
  },
  "cells": [
    {
      "cell_type": "markdown",
      "metadata": {
        "id": "view-in-github",
        "colab_type": "text"
      },
      "source": [
        "<a href=\"https://colab.research.google.com/github/Keshu321/AI_Midterm_12194874/blob/main/Week7_lab(2).ipynb\" target=\"_parent\"><img src=\"https://colab.research.google.com/assets/colab-badge.svg\" alt=\"Open In Colab\"/></a>"
      ]
    },
    {
      "cell_type": "markdown",
      "source": [
        "**Week 7 Lab 1-2**"
      ],
      "metadata": {
        "id": "685654ebf1sf"
      }
    },
    {
      "cell_type": "markdown",
      "source": [
        "### Request package was installed with the command below"
      ],
      "metadata": {
        "id": "6LzRrMl_dszO"
      }
    },
    {
      "cell_type": "code",
      "execution_count": 7,
      "metadata": {
        "colab": {
          "base_uri": "https://localhost:8080/"
        },
        "id": "kZFJrRp06eYl",
        "outputId": "baf29c34-7379-41ae-f194-a88c700d3508"
      },
      "outputs": [
        {
          "output_type": "stream",
          "name": "stdout",
          "text": [
            "Looking in indexes: https://pypi.org/simple, https://us-python.pkg.dev/colab-wheels/public/simple/\n",
            "Requirement already satisfied: requests in /usr/local/lib/python3.7/dist-packages (2.23.0)\n",
            "Requirement already satisfied: certifi>=2017.4.17 in /usr/local/lib/python3.7/dist-packages (from requests) (2022.9.24)\n",
            "Requirement already satisfied: chardet<4,>=3.0.2 in /usr/local/lib/python3.7/dist-packages (from requests) (3.0.4)\n",
            "Requirement already satisfied: idna<3,>=2.5 in /usr/local/lib/python3.7/dist-packages (from requests) (2.10)\n",
            "Requirement already satisfied: urllib3!=1.25.0,!=1.25.1,<1.26,>=1.21.1 in /usr/local/lib/python3.7/dist-packages (from requests) (1.24.3)\n"
          ]
        }
      ],
      "source": [
        "!pip install requests"
      ]
    },
    {
      "cell_type": "markdown",
      "source": [
        "### Request package was later import to the workingspace and the python file downloaded through the provided link"
      ],
      "metadata": {
        "id": "WjsLQbcod5Fg"
      }
    },
    {
      "cell_type": "code",
      "source": [
        "import requests\n",
        "url='https://raw.githubusercontent.com/NVDLI/LDL/main/pt_framework/utilities.py'\n",
        "r=requests.get(url)\n",
        "\n",
        "with open('utilities.py', 'w') as f:\n",
        "  f.write(r.text)"
      ],
      "metadata": {
        "id": "en-NorYL6oqB"
      },
      "execution_count": null,
      "outputs": []
    },
    {
      "cell_type": "markdown",
      "source": [
        "**Week 7 Lab 1-3**"
      ],
      "metadata": {
        "id": "ACdTOA2if_Aw"
      }
    },
    {
      "cell_type": "markdown",
      "source": [
        "### In the following labraries like numpy, torch and many others were imported so that all possible commands run easily.\n",
        "\n",
        "### Also **train_model** was imported as well from the python file we downloaded above"
      ],
      "metadata": {
        "id": "NgWW-hGzefox"
      }
    },
    {
      "cell_type": "code",
      "source": [
        "import torch\n",
        "import torch.nn as nn\n",
        "import torchvision\n",
        "import torchvision.transforms as transforms\n",
        "from torchvision.datasets import CIFAR10\n",
        "from torch.utils.data import DataLoader\n",
        "import numpy as np\n",
        "from utilities import train_model\n",
        "\n",
        "device = torch.device(\"cuda:0\" if torch.cuda.is_available() else \"cpu\")\n",
        "EPOCHS = 128\n",
        "BATCH_SIZE=32\n",
        "\n",
        "transform=transforms.Compose([transforms.ToTensor()])\n",
        "trainset=CIFAR10(root='./pt_data', train=True, download=True, transform=transform)\n",
        "trainloader=DataLoader(trainset, batch_size=len(trainset), shuffle=False)\n",
        "data=next(iter(trainloader))\n",
        "mean=data[0].mean()\n",
        "stddev=data[0].std()"
      ],
      "metadata": {
        "colab": {
          "base_uri": "https://localhost:8080/",
          "height": 84,
          "referenced_widgets": [
            "d824b520dc194485a515fa1374a80800",
            "57d3b1408f2b4fcbb3f4216bf75be996",
            "c8fe72f591f240ce9a81d9ea5000a18a",
            "8cbce306041842239da6b974e5d74996",
            "dbbbb5fd728e4040b2503fb25238a6b3",
            "e6057c9054cb4a59a1972afdc5725be2",
            "edb4c83aa7f1468b8b58a04885cfd5ed",
            "ff60be7b8cf04a569529068ada41494e",
            "7c8d8b1c2a3648d2a83bd94ec10e43e3",
            "a1216f3a5e0046298a97196da2d52958",
            "74de407e35b240a394ba9bfb6a814ee5"
          ]
        },
        "id": "9bdAy81g6s_K",
        "outputId": "be652468-3b60-41bd-87c7-803dabe7a114"
      },
      "execution_count": null,
      "outputs": [
        {
          "output_type": "stream",
          "name": "stdout",
          "text": [
            "Downloading https://www.cs.toronto.edu/~kriz/cifar-10-python.tar.gz to ./pt_data/cifar-10-python.tar.gz\n"
          ]
        },
        {
          "output_type": "display_data",
          "data": {
            "text/plain": [
              "  0%|          | 0/170498071 [00:00<?, ?it/s]"
            ],
            "application/vnd.jupyter.widget-view+json": {
              "version_major": 2,
              "version_minor": 0,
              "model_id": "d824b520dc194485a515fa1374a80800"
            }
          },
          "metadata": {}
        },
        {
          "output_type": "stream",
          "name": "stdout",
          "text": [
            "Extracting ./pt_data/cifar-10-python.tar.gz to ./pt_data\n"
          ]
        }
      ]
    },
    {
      "cell_type": "markdown",
      "source": [
        "![image.png](data:image/png;base64,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)"
      ],
      "metadata": {
        "id": "FMWJq3GOhbLs"
      }
    },
    {
      "cell_type": "markdown",
      "source": [
        "**Week 7 Lab 1-4**"
      ],
      "metadata": {
        "id": "5B1Bo1xEgSFW"
      }
    },
    {
      "cell_type": "markdown",
      "source": [
        "### After running all codes, the very last step was to load and standardize training as well as test datasets."
      ],
      "metadata": {
        "id": "O2bUEsu1fH9q"
      }
    },
    {
      "cell_type": "code",
      "source": [
        "transform=transforms.Compose(\n",
        "    [transforms.ToTensor(),\n",
        "     transforms.Normalize(mean, stddev)])\n",
        "\n",
        "trainset=CIFAR10(root='./pt_data', train=True, download=True, transform=transform)\n",
        "testset=CIFAR10(root='./pt_data', train=False, download=True, transform=transform)\n",
        "\n",
        "model=nn.Sequential(\n",
        "    nn.Conv2d(3, 64, 5, stride=2, padding=2),\n",
        "    nn.ReLU(),\n",
        "    nn.Conv2d(64, 64, 3, stride=2, padding=1),\n",
        "    nn.ReLU(),\n",
        "    nn.Flatten(),\n",
        "    nn.Linear(64*8*8, 10)\n",
        ")"
      ],
      "metadata": {
        "colab": {
          "base_uri": "https://localhost:8080/"
        },
        "id": "bnXiCtSL6vID",
        "outputId": "c00bdb87-ecd0-46d8-bf39-132bc1634f1c"
      },
      "execution_count": null,
      "outputs": [
        {
          "output_type": "stream",
          "name": "stdout",
          "text": [
            "Files already downloaded and verified\n",
            "Files already downloaded and verified\n"
          ]
        }
      ]
    },
    {
      "cell_type": "markdown",
      "source": [
        "**Week 7 Lab 1-5**"
      ],
      "metadata": {
        "id": "AklPmWA2geRl"
      }
    },
    {
      "cell_type": "code",
      "source": [
        "layers=next(model.modules())\n",
        "conv_layer0=layers[0]\n",
        "conv_layer1=layers[2]\n",
        "output_layer=layers[5]\n",
        "\n",
        "nn.init.kaiming_normal_(conv_layer0.weight)\n",
        "nn.init.constant_(conv_layer0.bias, 0.0)\n",
        "nn.init.kaiming_normal_(conv_layer1.weight)\n",
        "nn.init.constant_(conv_layer1.bias, 0.0)\n",
        "\n",
        "nn.init.xavier_uniform_(output_layer.weight)\n",
        "nn.init.constant_(output_layer.bias, 0.0)\n",
        "\n",
        "optimizer=torch.optim.Adam(model.parameters())\n",
        "loss_function=nn.CrossEntropyLoss()\n",
        "\n",
        "train_model(model, device, EPOCHS, BATCH_SIZE, trainset, testset, optimizer, loss_function, 'acc')"
      ],
      "metadata": {
        "colab": {
          "base_uri": "https://localhost:8080/"
        },
        "id": "GtMTqzOk64Bc",
        "outputId": "7031831c-12e3-4714-8e04-9b206e399888"
      },
      "execution_count": 8,
      "outputs": [
        {
          "output_type": "stream",
          "name": "stdout",
          "text": [
            "Epoch 1/128 loss: 1.3815 - acc: 0.5141 - val_loss: 1.1725 - val_acc: 0.5921\n",
            "Epoch 2/128 loss: 1.0487 - acc: 0.6370 - val_loss: 1.1502 - val_acc: 0.6051\n",
            "Epoch 3/128 loss: 0.9171 - acc: 0.6806 - val_loss: 1.0801 - val_acc: 0.6284\n",
            "Epoch 4/128 loss: 0.8245 - acc: 0.7131 - val_loss: 1.0315 - val_acc: 0.6490\n",
            "Epoch 5/128 loss: 0.7500 - acc: 0.7403 - val_loss: 1.0518 - val_acc: 0.6547\n",
            "Epoch 6/128 loss: 0.6779 - acc: 0.7632 - val_loss: 1.1368 - val_acc: 0.6385\n",
            "Epoch 7/128 loss: 0.6185 - acc: 0.7812 - val_loss: 1.1570 - val_acc: 0.6425\n",
            "Epoch 8/128 loss: 0.5653 - acc: 0.8013 - val_loss: 1.2110 - val_acc: 0.6388\n",
            "Epoch 9/128 loss: 0.5139 - acc: 0.8198 - val_loss: 1.2628 - val_acc: 0.6370\n",
            "Epoch 10/128 loss: 0.4697 - acc: 0.8343 - val_loss: 1.3479 - val_acc: 0.6364\n",
            "Epoch 11/128 loss: 0.4259 - acc: 0.8486 - val_loss: 1.4270 - val_acc: 0.6264\n",
            "Epoch 12/128 loss: 0.3967 - acc: 0.8599 - val_loss: 1.5245 - val_acc: 0.6319\n",
            "Epoch 13/128 loss: 0.3644 - acc: 0.8688 - val_loss: 1.6300 - val_acc: 0.6301\n",
            "Epoch 14/128 loss: 0.3353 - acc: 0.8798 - val_loss: 1.7152 - val_acc: 0.6267\n",
            "Epoch 15/128 loss: 0.3079 - acc: 0.8887 - val_loss: 1.8143 - val_acc: 0.6213\n",
            "Epoch 16/128 loss: 0.2971 - acc: 0.8927 - val_loss: 1.8871 - val_acc: 0.6268\n",
            "Epoch 17/128 loss: 0.2763 - acc: 0.9012 - val_loss: 2.0316 - val_acc: 0.6307\n",
            "Epoch 18/128 loss: 0.2555 - acc: 0.9068 - val_loss: 2.0940 - val_acc: 0.6250\n",
            "Epoch 19/128 loss: 0.2470 - acc: 0.9094 - val_loss: 2.2358 - val_acc: 0.6183\n",
            "Epoch 20/128 loss: 0.2306 - acc: 0.9162 - val_loss: 2.3090 - val_acc: 0.6171\n",
            "Epoch 21/128 loss: 0.2197 - acc: 0.9199 - val_loss: 2.4178 - val_acc: 0.6195\n",
            "Epoch 22/128 loss: 0.2099 - acc: 0.9237 - val_loss: 2.5501 - val_acc: 0.6160\n",
            "Epoch 23/128 loss: 0.1993 - acc: 0.9268 - val_loss: 2.6045 - val_acc: 0.6152\n",
            "Epoch 24/128 loss: 0.1957 - acc: 0.9294 - val_loss: 2.7161 - val_acc: 0.6032\n",
            "Epoch 25/128 loss: 0.1885 - acc: 0.9337 - val_loss: 2.8330 - val_acc: 0.6239\n",
            "Epoch 26/128 loss: 0.1784 - acc: 0.9377 - val_loss: 2.9936 - val_acc: 0.6063\n",
            "Epoch 27/128 loss: 0.1791 - acc: 0.9339 - val_loss: 3.0949 - val_acc: 0.6096\n",
            "Epoch 28/128 loss: 0.1710 - acc: 0.9392 - val_loss: 3.1228 - val_acc: 0.6149\n",
            "Epoch 29/128 loss: 0.1614 - acc: 0.9417 - val_loss: 3.1918 - val_acc: 0.6126\n",
            "Epoch 30/128 loss: 0.1777 - acc: 0.9375 - val_loss: 3.4089 - val_acc: 0.6218\n",
            "Epoch 31/128 loss: 0.1630 - acc: 0.9422 - val_loss: 3.3883 - val_acc: 0.6158\n",
            "Epoch 32/128 loss: 0.1597 - acc: 0.9437 - val_loss: 3.5360 - val_acc: 0.6141\n",
            "Epoch 33/128 loss: 0.1526 - acc: 0.9474 - val_loss: 3.6459 - val_acc: 0.6106\n",
            "Epoch 34/128 loss: 0.1578 - acc: 0.9454 - val_loss: 3.7391 - val_acc: 0.6114\n",
            "Epoch 35/128 loss: 0.1463 - acc: 0.9499 - val_loss: 3.8711 - val_acc: 0.6210\n",
            "Epoch 36/128 loss: 0.1517 - acc: 0.9483 - val_loss: 3.8926 - val_acc: 0.6095\n",
            "Epoch 37/128 loss: 0.1505 - acc: 0.9488 - val_loss: 3.9893 - val_acc: 0.6124\n",
            "Epoch 38/128 loss: 0.1481 - acc: 0.9498 - val_loss: 4.1574 - val_acc: 0.6093\n",
            "Epoch 39/128 loss: 0.1362 - acc: 0.9534 - val_loss: 4.2982 - val_acc: 0.6038\n",
            "Epoch 40/128 loss: 0.1499 - acc: 0.9497 - val_loss: 4.2569 - val_acc: 0.6096\n",
            "Epoch 41/128 loss: 0.1393 - acc: 0.9539 - val_loss: 4.3984 - val_acc: 0.6111\n",
            "Epoch 42/128 loss: 0.1321 - acc: 0.9558 - val_loss: 4.5699 - val_acc: 0.6096\n",
            "Epoch 43/128 loss: 0.1472 - acc: 0.9526 - val_loss: 4.6439 - val_acc: 0.6004\n",
            "Epoch 44/128 loss: 0.1409 - acc: 0.9547 - val_loss: 4.7146 - val_acc: 0.6107\n",
            "Epoch 45/128 loss: 0.1372 - acc: 0.9557 - val_loss: 4.7619 - val_acc: 0.6063\n",
            "Epoch 46/128 loss: 0.1358 - acc: 0.9568 - val_loss: 4.9411 - val_acc: 0.6059\n",
            "Epoch 47/128 loss: 0.1358 - acc: 0.9580 - val_loss: 4.9819 - val_acc: 0.6061\n",
            "Epoch 48/128 loss: 0.1326 - acc: 0.9583 - val_loss: 5.1343 - val_acc: 0.6091\n",
            "Epoch 49/128 loss: 0.1465 - acc: 0.9539 - val_loss: 5.3674 - val_acc: 0.6044\n",
            "Epoch 50/128 loss: 0.1405 - acc: 0.9573 - val_loss: 5.4630 - val_acc: 0.6064\n",
            "Epoch 51/128 loss: 0.1311 - acc: 0.9601 - val_loss: 5.4168 - val_acc: 0.6017\n",
            "Epoch 52/128 loss: 0.1419 - acc: 0.9582 - val_loss: 5.4394 - val_acc: 0.6087\n",
            "Epoch 53/128 loss: 0.1309 - acc: 0.9605 - val_loss: 5.6893 - val_acc: 0.6031\n",
            "Epoch 54/128 loss: 0.1342 - acc: 0.9597 - val_loss: 5.6870 - val_acc: 0.6103\n",
            "Epoch 55/128 loss: 0.1435 - acc: 0.9594 - val_loss: 5.6614 - val_acc: 0.6082\n",
            "Epoch 56/128 loss: 0.1404 - acc: 0.9600 - val_loss: 5.9007 - val_acc: 0.6031\n",
            "Epoch 57/128 loss: 0.1236 - acc: 0.9630 - val_loss: 6.0136 - val_acc: 0.6055\n",
            "Epoch 58/128 loss: 0.1353 - acc: 0.9609 - val_loss: 6.1756 - val_acc: 0.5969\n",
            "Epoch 59/128 loss: 0.1424 - acc: 0.9592 - val_loss: 6.1846 - val_acc: 0.6113\n",
            "Epoch 60/128 loss: 0.1259 - acc: 0.9649 - val_loss: 6.2376 - val_acc: 0.6054\n",
            "Epoch 61/128 loss: 0.1354 - acc: 0.9619 - val_loss: 6.2503 - val_acc: 0.6060\n",
            "Epoch 62/128 loss: 0.1414 - acc: 0.9612 - val_loss: 6.4131 - val_acc: 0.6066\n",
            "Epoch 63/128 loss: 0.1386 - acc: 0.9616 - val_loss: 6.3911 - val_acc: 0.5999\n",
            "Epoch 64/128 loss: 0.1253 - acc: 0.9652 - val_loss: 6.6212 - val_acc: 0.6091\n",
            "Epoch 65/128 loss: 0.1483 - acc: 0.9596 - val_loss: 6.6666 - val_acc: 0.6055\n",
            "Epoch 66/128 loss: 0.1298 - acc: 0.9644 - val_loss: 6.7281 - val_acc: 0.6052\n",
            "Epoch 67/128 loss: 0.1341 - acc: 0.9635 - val_loss: 6.6267 - val_acc: 0.6053\n",
            "Epoch 68/128 loss: 0.1305 - acc: 0.9646 - val_loss: 6.9328 - val_acc: 0.6093\n",
            "Epoch 69/128 loss: 0.1352 - acc: 0.9637 - val_loss: 7.0274 - val_acc: 0.6062\n",
            "Epoch 70/128 loss: 0.1327 - acc: 0.9659 - val_loss: 7.2067 - val_acc: 0.6055\n",
            "Epoch 71/128 loss: 0.1367 - acc: 0.9630 - val_loss: 7.1627 - val_acc: 0.6094\n",
            "Epoch 72/128 loss: 0.1228 - acc: 0.9677 - val_loss: 7.3530 - val_acc: 0.6063\n",
            "Epoch 73/128 loss: 0.1402 - acc: 0.9646 - val_loss: 7.3425 - val_acc: 0.6025\n",
            "Epoch 74/128 loss: 0.1252 - acc: 0.9681 - val_loss: 7.5325 - val_acc: 0.6017\n",
            "Epoch 75/128 loss: 0.1304 - acc: 0.9669 - val_loss: 7.7109 - val_acc: 0.6070\n",
            "Epoch 76/128 loss: 0.1504 - acc: 0.9642 - val_loss: 7.6332 - val_acc: 0.6074\n",
            "Epoch 77/128 loss: 0.1158 - acc: 0.9715 - val_loss: 7.7061 - val_acc: 0.6102\n",
            "Epoch 78/128 loss: 0.1382 - acc: 0.9662 - val_loss: 7.9621 - val_acc: 0.6052\n",
            "Epoch 79/128 loss: 0.1374 - acc: 0.9666 - val_loss: 8.0615 - val_acc: 0.6058\n",
            "Epoch 80/128 loss: 0.1331 - acc: 0.9682 - val_loss: 8.1326 - val_acc: 0.6120\n",
            "Epoch 81/128 loss: 0.1255 - acc: 0.9699 - val_loss: 8.3382 - val_acc: 0.6063\n",
            "Epoch 82/128 loss: 0.1433 - acc: 0.9670 - val_loss: 8.2091 - val_acc: 0.6064\n",
            "Epoch 83/128 loss: 0.1206 - acc: 0.9705 - val_loss: 8.2293 - val_acc: 0.6046\n",
            "Epoch 84/128 loss: 0.1367 - acc: 0.9681 - val_loss: 8.3912 - val_acc: 0.6030\n",
            "Epoch 85/128 loss: 0.1365 - acc: 0.9682 - val_loss: 8.3840 - val_acc: 0.6028\n",
            "Epoch 86/128 loss: 0.1345 - acc: 0.9686 - val_loss: 8.6097 - val_acc: 0.6074\n",
            "Epoch 87/128 loss: 0.1325 - acc: 0.9682 - val_loss: 8.7960 - val_acc: 0.6005\n",
            "Epoch 88/128 loss: 0.1364 - acc: 0.9691 - val_loss: 8.9652 - val_acc: 0.5997\n",
            "Epoch 89/128 loss: 0.1343 - acc: 0.9695 - val_loss: 8.9504 - val_acc: 0.6058\n",
            "Epoch 90/128 loss: 0.1360 - acc: 0.9704 - val_loss: 9.1018 - val_acc: 0.6078\n",
            "Epoch 91/128 loss: 0.1358 - acc: 0.9703 - val_loss: 9.1023 - val_acc: 0.6071\n",
            "Epoch 92/128 loss: 0.1306 - acc: 0.9703 - val_loss: 9.2610 - val_acc: 0.6033\n",
            "Epoch 93/128 loss: 0.1363 - acc: 0.9698 - val_loss: 9.3572 - val_acc: 0.6039\n",
            "Epoch 94/128 loss: 0.1405 - acc: 0.9703 - val_loss: 9.7463 - val_acc: 0.6056\n",
            "Epoch 95/128 loss: 0.1273 - acc: 0.9720 - val_loss: 9.7460 - val_acc: 0.6005\n",
            "Epoch 96/128 loss: 0.1449 - acc: 0.9689 - val_loss: 9.8346 - val_acc: 0.6135\n",
            "Epoch 97/128 loss: 0.1338 - acc: 0.9714 - val_loss: 9.5947 - val_acc: 0.6109\n",
            "Epoch 98/128 loss: 0.1357 - acc: 0.9708 - val_loss: 9.9111 - val_acc: 0.6134\n",
            "Epoch 99/128 loss: 0.1311 - acc: 0.9715 - val_loss: 10.0027 - val_acc: 0.6070\n",
            "Epoch 100/128 loss: 0.1385 - acc: 0.9716 - val_loss: 10.2307 - val_acc: 0.6025\n",
            "Epoch 101/128 loss: 0.1401 - acc: 0.9717 - val_loss: 10.2497 - val_acc: 0.6123\n",
            "Epoch 102/128 loss: 0.1462 - acc: 0.9715 - val_loss: 10.4469 - val_acc: 0.6085\n",
            "Epoch 103/128 loss: 0.1337 - acc: 0.9715 - val_loss: 10.5016 - val_acc: 0.6085\n",
            "Epoch 104/128 loss: 0.1416 - acc: 0.9720 - val_loss: 10.6756 - val_acc: 0.6075\n",
            "Epoch 105/128 loss: 0.1413 - acc: 0.9730 - val_loss: 10.5120 - val_acc: 0.6053\n",
            "Epoch 106/128 loss: 0.1445 - acc: 0.9719 - val_loss: 10.7561 - val_acc: 0.6090\n",
            "Epoch 107/128 loss: 0.1379 - acc: 0.9730 - val_loss: 11.1112 - val_acc: 0.6077\n",
            "Epoch 108/128 loss: 0.1411 - acc: 0.9721 - val_loss: 11.2340 - val_acc: 0.6088\n",
            "Epoch 109/128 loss: 0.1402 - acc: 0.9721 - val_loss: 11.1650 - val_acc: 0.6070\n",
            "Epoch 110/128 loss: 0.1409 - acc: 0.9728 - val_loss: 11.1715 - val_acc: 0.6055\n",
            "Epoch 111/128 loss: 0.1410 - acc: 0.9735 - val_loss: 11.4082 - val_acc: 0.5986\n",
            "Epoch 112/128 loss: 0.1368 - acc: 0.9742 - val_loss: 11.6855 - val_acc: 0.6071\n",
            "Epoch 113/128 loss: 0.1437 - acc: 0.9743 - val_loss: 11.6162 - val_acc: 0.6088\n",
            "Epoch 114/128 loss: 0.1294 - acc: 0.9754 - val_loss: 11.6009 - val_acc: 0.6103\n",
            "Epoch 115/128 loss: 0.1507 - acc: 0.9719 - val_loss: 11.8501 - val_acc: 0.6094\n",
            "Epoch 116/128 loss: 0.1423 - acc: 0.9732 - val_loss: 11.7163 - val_acc: 0.6087\n",
            "Epoch 117/128 loss: 0.1364 - acc: 0.9746 - val_loss: 11.7204 - val_acc: 0.6115\n",
            "Epoch 118/128 loss: 0.1376 - acc: 0.9738 - val_loss: 12.1331 - val_acc: 0.6021\n",
            "Epoch 119/128 loss: 0.1329 - acc: 0.9756 - val_loss: 12.1828 - val_acc: 0.6095\n",
            "Epoch 120/128 loss: 0.1386 - acc: 0.9753 - val_loss: 12.1110 - val_acc: 0.6028\n",
            "Epoch 121/128 loss: 0.1430 - acc: 0.9746 - val_loss: 12.5300 - val_acc: 0.6110\n",
            "Epoch 122/128 loss: 0.1440 - acc: 0.9748 - val_loss: 12.4041 - val_acc: 0.6011\n",
            "Epoch 123/128 loss: 0.1382 - acc: 0.9749 - val_loss: 12.5441 - val_acc: 0.6050\n",
            "Epoch 124/128 loss: 0.1356 - acc: 0.9761 - val_loss: 12.9064 - val_acc: 0.6038\n",
            "Epoch 125/128 loss: 0.1434 - acc: 0.9740 - val_loss: 13.0362 - val_acc: 0.6073\n",
            "Epoch 126/128 loss: 0.1435 - acc: 0.9758 - val_loss: 12.7894 - val_acc: 0.6109\n",
            "Epoch 127/128 loss: 0.1419 - acc: 0.9762 - val_loss: 13.0765 - val_acc: 0.6057\n",
            "Epoch 128/128 loss: 0.1486 - acc: 0.9755 - val_loss: 13.4074 - val_acc: 0.6060\n"
          ]
        },
        {
          "output_type": "execute_result",
          "data": {
            "text/plain": [
              "[0.9755078374920025, 0.6060303514376997]"
            ]
          },
          "metadata": {},
          "execution_count": 8
        }
      ]
    }
  ]
}